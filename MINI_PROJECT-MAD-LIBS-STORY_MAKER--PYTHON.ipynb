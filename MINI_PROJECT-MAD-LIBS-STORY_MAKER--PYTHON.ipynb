{
 "cells": [
  {
   "cell_type": "code",
   "execution_count": null,
   "metadata": {},
   "outputs": [
    {
     "name": "stdout",
     "output_type": "stream",
     "text": [
      "Road Trip Mad Lib\n",
      "When the program asks you, please enter the appropriate word.\n",
      "There are 21 blanks in SYED DANISH ALI & AMANPREET SINGH  Mad Lib. \n"
     ]
    }
   ],
   "source": [
    "# PYTHON MINI PROJECT  Mad LibS STORY generator. CREATED ON DATE: 28/04/2020.\n",
    "madlib = '''On the {} trip to {}, my {} friend and I decided to invent a game. Since \n",
    "this would be a rather {} trip, it would need to be a game with {} and {}. \n",
    "Using our {} to {}, we tried to get the {} next to us to play too, but they \n",
    "just {}ed at us and {} away. After a few rounds, we thought the game could \n",
    "use some {}, so we turned on the {} and started {} to the {} that came on. \n",
    "This lasted for {} before I got {} and decided to {}. I ll never {} that trip, \n",
    "it was the {} road trip of my {}.'''\n",
    "\n",
    "\n",
    "# A list storing the blanks for the Mad Lib\n",
    "blanks = [\n",
    "    \"adjective\",\n",
    "    \"place\",\n",
    "    \"adjective\",\n",
    "    \"adjective\",\n",
    "    \"noun, plural\",\n",
    "    \"noun, plural\",\n",
    "    \"noun\",\n",
    "    \"verb\",\n",
    "    \"noun\",\n",
    "    \"verb\",\n",
    "    \"action verb\",\n",
    "    \"noun, plural\",\n",
    "    \"noun\",\n",
    "    \"verb that ends in ing\",\n",
    "    \"noun\",\n",
    "    \"measurement of time\",\n",
    "    \"adjective\",\n",
    "    \"action verb\",\n",
    "    \"verb\",\n",
    "    \"adjective\",\n",
    "    \"noun, something you can own\"\n",
    "]\n",
    "print(\"Road Trip Mad Lib\\nWhen the program asks you, please enter the appropriate word.\")\n",
    "print(\"There are %i blanks in SYED DANISH ALI & AMANPREET SINGH  Mad Lib. \" % (len(blanks)))\n",
    "# Ask the user for each one\n",
    "answers = []\n",
    "for blank in blanks:\n",
    "    ans = \"\"\n",
    "    while not ans:\n",
    "        ans = input(blank.capitalize() + \"> \")\n",
    "        if not ans:\n",
    "            print(\"Please don't leave anything blank. It kills the experience.\")\n",
    "    answers.append(ans)\n",
    "# The list that stores the format string\n",
    "\n",
    "\n",
    "# Print the formatted Mad Lib\n",
    "print(madlib.format(*answers))\n",
    "feedback = input(\"Pretty funny, right? [y/n] \")\n",
    "if feedback.lower() == \"y\":\n",
    "    print(\"Thanks!\")\n",
    "else:\n",
    "    print(\":( Sorry. I'll try better next time.\")\n",
    "print(\"\\n\" + \"=\"*10 + \"\\nMad Lib PROJECTED BY::-\\nSYED DANISH ALI 2K18CSUN01043  & AMANPREET SINGH 2K18CSUN01008   CSE-4C \\n CREATED ON DATE:- 28/04/2020 :: UPLOADED ON GITHUB:-28/04/2020 :: UPLOADED ON ERP:- 28/04/2020\")"
   ]
  },
  {
   "cell_type": "code",
   "execution_count": null,
   "metadata": {},
   "outputs": [],
   "source": []
  }
 ],
 "metadata": {
  "kernelspec": {
   "display_name": "Python 3.8.0 64-bit",
   "language": "python",
   "name": "python38064bit4084e17e0b704b11819a6c38322e2310"
  },
  "language_info": {
   "codemirror_mode": {
    "name": "ipython",
    "version": 3
   },
   "file_extension": ".py",
   "mimetype": "text/x-python",
   "name": "python",
   "nbconvert_exporter": "python",
   "pygments_lexer": "ipython3",
   "version": "3.8.0"
  }
 },
 "nbformat": 4,
 "nbformat_minor": 2
}
